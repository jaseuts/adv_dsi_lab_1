{
 "cells": [
  {
   "cell_type": "code",
   "execution_count": 40,
   "id": "1760fab3-6b03-44da-bef9-9933d638e732",
   "metadata": {},
   "outputs": [],
   "source": [
    "import numpy as np\n",
    "import pandas as pd\n",
    "from joblib import dump\n",
    "from sklearn.preprocessing import StandardScaler\n",
    "from sklearn.model_selection import train_test_split\n",
    "from sklearn.metrics import mean_squared_error as mse\n",
    "from sklearn.metrics import mean_absolute_error as mae\n",
    "from sklearn.linear_model import ElasticNet "
   ]
  },
  {
   "cell_type": "code",
   "execution_count": null,
   "id": "6f11a2c0-51f4-4a12-aa3d-f2091810f449",
   "metadata": {},
   "outputs": [],
   "source": [
    "df = pd.read_csv('../data/raw/OnlineNewsPopularity.csv')\n",
    "print(df.shape)\n",
    "df.describeribe()"
   ]
  },
  {
   "cell_type": "code",
   "execution_count": null,
   "id": "3ab37efc-d94a-4ca4-8e8e-958419c7fd01",
   "metadata": {},
   "outputs": [],
   "source": [
    "df_cleaned = df.copy()\n",
    "df_cleaned.drop('url', axis=1, inplace=True)\n",
    "df_cleaned.columns = df_cleaned.columns.str.strip()\n",
    "cor = df_cleaned.corr()\n",
    "target = df_cleaned.pop('shares')"
   ]
  },
  {
   "cell_type": "code",
   "execution_count": null,
   "id": "090e587e-6b11-4a44-9336-2b48aa2057de",
   "metadata": {},
   "outputs": [],
   "source": [
    "order = cor['shares'].map(lambda x : x).abs().sort_values(ascending = False)\n",
    "selection = order[order > 0.02].index[1:] # exclude column 'shares'\n",
    "selection"
   ]
  },
  {
   "cell_type": "code",
   "execution_count": null,
   "id": "97ce141e-4896-4051-aab9-d1c81f0db439",
   "metadata": {},
   "outputs": [],
   "source": [
    "df_strong_features = df_cleaned[selection]\n",
    "cor_selected = df_strong_features.corr()\n",
    "cor_selected[cor_selected > 0.5]"
   ]
  },
  {
   "cell_type": "code",
   "execution_count": null,
   "id": "3b471f9f-48cc-4d31-9937-9b69e212e28c",
   "metadata": {},
   "outputs": [],
   "source": [
    "cor_selected.columns "
   ]
  },
  {
   "cell_type": "code",
   "execution_count": null,
   "id": "acbfe112-c35a-4547-8391-887cc254bae3",
   "metadata": {},
   "outputs": [],
   "source": [
    "independent_cols = ['kw_avg_avg', 'LDA_03', 'LDA_02',\n",
    "       'self_reference_min_shares', 'self_reference_max_shares', 'num_hrefs', \n",
    "       'kw_avg_max', 'kw_min_avg', 'num_imgs', 'avg_negative_polarity', 'global_subjectivity', \n",
    "        'kw_max_min','abs_title_sentiment_polarity', 'num_videos', 'num_keywords']\n",
    "df_independent_features = df_strong_features[independent_cols]\n",
    "df_independent_features.shape"
   ]
  },
  {
   "cell_type": "code",
   "execution_count": 34,
   "id": "395116ad-a5e1-4964-a33f-c85599a35155",
   "metadata": {},
   "outputs": [
    {
     "data": {
      "text/plain": [
       "['../models/scaler.joblib']"
      ]
     },
     "execution_count": 34,
     "metadata": {},
     "output_type": "execute_result"
    }
   ],
   "source": [
    "scaler = StandardScaler()\n",
    "df_scaled = scaler.fit_transform(df_independent_features)\n",
    "dump(scaler, '../models/scaler.joblib')"
   ]
  },
  {
   "cell_type": "code",
   "execution_count": 37,
   "id": "a89af36c-065a-4db3-b580-9d4f50156a70",
   "metadata": {},
   "outputs": [],
   "source": [
    "X_data, X_test, y_data, y_test = train_test_split (df_independent_features, target, test_size=0.2, random_state=8)\n",
    "X_train, X_val, y_train, y_val = train_test_split(X_data, y_data, test_size=0.2, random_state=8)\n",
    "np.save('../data/processed/X_train', X_train)\n",
    "np.save('../data/processed/X_val',   X_val)\n",
    "np.save('../data/processed/X_test',  X_test)\n",
    "np.save('../data/processed/y_train', y_train)\n",
    "np.save('../data/processed/y_val',   y_val)\n",
    "np.save('../data/processed/y_test',  y_test)"
   ]
  },
  {
   "cell_type": "code",
   "execution_count": 39,
   "id": "019f139f-aef4-47d1-80db-1b5b5008fe76",
   "metadata": {},
   "outputs": [
    {
     "name": "stdout",
     "output_type": "stream",
     "text": [
      "3393.0807189027273\n",
      "[[3393.0807189]\n",
      " [3393.0807189]\n",
      " [3393.0807189]\n",
      " ...\n",
      " [3393.0807189]\n",
      " [3393.0807189]\n",
      " [3393.0807189]]\n",
      "11661.716125848263\n",
      "3209.78959340725\n"
     ]
    }
   ],
   "source": [
    "y_mean = y_train.mean()\n",
    "y_base = np.full((len(y_train), 1), y_mean)\n",
    "print(y_mean)\n",
    "print(y_base)\n",
    "print(mse(y_train, y_base, squared=False))\n",
    "print(mae(y_train, y_base))"
   ]
  },
  {
   "cell_type": "code",
   "execution_count": 41,
   "id": "f7c8d1c2-1f1f-4a79-9873-1db641ba52c4",
   "metadata": {},
   "outputs": [
    {
     "name": "stdout",
     "output_type": "stream",
     "text": [
      "8543.122344494523\n",
      "2891.1692077224748\n"
     ]
    }
   ],
   "source": [
    "reg = ElasticNet()\n",
    "reg.fit(X_train, y_train)\n",
    "y_train_preds = reg.predict(X_train)\n",
    "y_val_preds = reg.predict(X_val)\n",
    "print(mse(y_val, y_val_preds, squared=False))\n",
    "print(mae(y_val, y_val_preds))"
   ]
  },
  {
   "cell_type": "code",
   "execution_count": 44,
   "id": "84c245cc-633d-40ef-9461-addee2b03fc5",
   "metadata": {},
   "outputs": [
    {
     "data": {
      "text/plain": [
       "['../models/elasticnet_default.joblib']"
      ]
     },
     "execution_count": 44,
     "metadata": {},
     "output_type": "execute_result"
    }
   ],
   "source": [
    "dump(reg,  '../models/elasticnet_default.joblib')"
   ]
  },
  {
   "cell_type": "code",
   "execution_count": null,
   "id": "70bee1b4-e184-4eb4-96df-dfb6240e571e",
   "metadata": {},
   "outputs": [],
   "source": []
  }
 ],
 "metadata": {
  "kernelspec": {
   "display_name": "Python 3",
   "language": "python",
   "name": "python3"
  },
  "language_info": {
   "codemirror_mode": {
    "name": "ipython",
    "version": 3
   },
   "file_extension": ".py",
   "mimetype": "text/x-python",
   "name": "python",
   "nbconvert_exporter": "python",
   "pygments_lexer": "ipython3",
   "version": "3.8.8"
  }
 },
 "nbformat": 4,
 "nbformat_minor": 5
}
